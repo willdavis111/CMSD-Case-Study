{
 "cells": [
  {
   "cell_type": "markdown",
   "id": "9961cff0",
   "metadata": {},
   "source": [
    "CMSD Skill Check \n",
    "1. accessed all required files, renaming them to match description in the attached instructions\n",
    "2. Evaluated the formatting of each table type to establish primary keys for joins\n",
    "3. save first sheet of each file as a csv for easy use as a df\n",
    "4. create function to iterate of the files to filter unnecasary data and join them accordingly \n",
    "5. create subset of data for visualization \n",
    "\n"
   ]
  },
  {
   "cell_type": "code",
   "execution_count": 81,
   "id": "a4ecdf19",
   "metadata": {},
   "outputs": [],
   "source": [
    "#required libraries\n",
    "import pandas as pd\n",
    "import numpy as np\n",
    "import matplotlib.pyplot as plt"
   ]
  },
  {
   "cell_type": "code",
   "execution_count": 82,
   "id": "889dc3b1",
   "metadata": {},
   "outputs": [],
   "source": [
    "# parts of the file names for itteration \n",
    "years = ['2015_2016', '2016_2017', '2017_2018']\n",
    "years_ach = ['2015-16', '2016-17', '2017-18']\n",
    "path = 'C:\\\\Users\\\\willd\\\\OneDrive\\\\Desktop\\\\DataAnalysis\\\\python data\\\\CMSD test\\\\csvs\\\\'\n",
    "# names = ['building_achievement_', 'building_rating_', 'value_added_' ]\n",
    "# columns being used from each data frame \n",
    "rat_cols = ['Building IRN', 'Building Name', 'Address', 'City, State, Zip', 'Enrollment']\n",
    "ach_cols = ['Building IRN', 'Performance Index Percent']\n",
    "val_cols = ['Building IRN', 'Overall Value Added Grade']"
   ]
  },
  {
   "cell_type": "code",
   "execution_count": 83,
   "id": "c9e5c947",
   "metadata": {},
   "outputs": [],
   "source": [
    "# Filter functio to remove other schools and colums that are not required\n",
    "def filter_df(df_df, df_cols):\n",
    "    df_df = df_df[df_df[\"District IRN\"] == 43786]\n",
    "    df_df = df_df[df_cols]\n",
    "    return df_df"
   ]
  },
  {
   "cell_type": "code",
   "execution_count": 84,
   "id": "31100685",
   "metadata": {},
   "outputs": [],
   "source": [
    "list_of_df = []\n",
    "for i in range(len(years)):\n",
    "    year = years[i]\n",
    "    #new year \n",
    "    new_year = year.replace('_','-')\n",
    "    \n",
    "    # rating table \n",
    "    rat_df = pd.read_csv(f'{path}building_rating_{year}.csv')\n",
    "    rat_df = rat_df.rename(columns={f'Enrollment {new_year}': 'Enrollment'})\n",
    "    rat_df = filter_df(rat_df, rat_cols)\n",
    "    rat_df['School Year'] = new_year\n",
    "    rat_df['Year Rank'] = (i+1)\n",
    "    rat_df['full_address'] = rat_df['Address'] + ', ' + rat_df['City, State, Zip']\n",
    "    \n",
    "    # achievement table \n",
    "    ach_df = pd.read_csv(f'{path}building_achievement_{year}.csv')\n",
    "    ach_df = ach_df.rename(columns={f'Performance Index Percent {years_ach[i]}': 'Performance Index Percent'})\n",
    "    ach_df = filter_df(ach_df, ach_cols)\n",
    "    \n",
    "    #value added table\n",
    "    val_df = pd.read_csv(f'{path}value_added_{year}.csv')\n",
    "    val_df = filter_df(val_df, val_cols)\n",
    "    \n",
    "    #joining the tables\n",
    "    joined_df = rat_df.join(ach_df.set_index('Building IRN'), on='Building IRN')\n",
    "    joined_df = joined_df.join(val_df.set_index('Building IRN'), on='Building IRN')\n",
    "    list_of_df.append(joined_df)\n",
    "    \n",
    "# concatinate all 3 data froms\n",
    "all_years_df = pd.concat(list_of_df)"
   ]
  },
  {
   "cell_type": "code",
   "execution_count": 20,
   "id": "95c616d3",
   "metadata": {},
   "outputs": [],
   "source": [
    "# single dataset saved as a csv \n",
    "# all_years_df.to_csv('file_name.csv', index=False)"
   ]
  },
  {
   "cell_type": "markdown",
   "id": "6186f221",
   "metadata": {},
   "source": [
    "## Further Breakedown for Analysis \n"
   ]
  },
  {
   "cell_type": "markdown",
   "id": "1a12a851",
   "metadata": {},
   "source": [
    "### Value Added Data Frame "
   ]
  },
  {
   "cell_type": "code",
   "execution_count": 85,
   "id": "d934933b",
   "metadata": {},
   "outputs": [
    {
     "name": "stderr",
     "output_type": "stream",
     "text": [
      "C:\\Users\\willd\\AppData\\Local\\Temp\\ipykernel_5844\\328109096.py:6: SettingWithCopyWarning: \n",
      "A value is trying to be set on a copy of a slice from a DataFrame.\n",
      "Try using .loc[row_indexer,col_indexer] = value instead\n",
      "\n",
      "See the caveats in the documentation: https://pandas.pydata.org/pandas-docs/stable/user_guide/indexing.html#returning-a-view-versus-a-copy\n",
      "  no_null['freq_count'] = no_null.groupby('Building IRN')['Building IRN'].transform('count')\n"
     ]
    }
   ],
   "source": [
    "letters = ['A', 'B', 'C', 'D', 'F']\n",
    "#removing nans\n",
    "no_null = all_years_df\n",
    "#removing non letter grades \n",
    "no_null = no_null[(no_null[\"Overall Value Added Grade\"].isin(letters))]\n",
    "no_null['freq_count'] = no_null.groupby('Building IRN')['Building IRN'].transform('count')\n",
    "# | (no_null[\"Performance Index Percent\"] != 'NC')"
   ]
  },
  {
   "cell_type": "code",
   "execution_count": 86,
   "id": "1c5affd9",
   "metadata": {},
   "outputs": [
    {
     "name": "stderr",
     "output_type": "stream",
     "text": [
      "C:\\Users\\willd\\AppData\\Local\\Temp\\ipykernel_5844\\4207152606.py:1: SettingWithCopyWarning: \n",
      "A value is trying to be set on a copy of a slice from a DataFrame.\n",
      "Try using .loc[row_indexer,col_indexer] = value instead\n",
      "\n",
      "See the caveats in the documentation: https://pandas.pydata.org/pandas-docs/stable/user_guide/indexing.html#returning-a-view-versus-a-copy\n",
      "  no_null['Performance Index Percent'] = pd.to_numeric(no_null['Performance Index Percent'], errors='coerce')\n"
     ]
    }
   ],
   "source": [
    "no_null['Performance Index Percent'] = pd.to_numeric(no_null['Performance Index Percent'], errors='coerce')"
   ]
  },
  {
   "cell_type": "code",
   "execution_count": 33,
   "id": "45cc4d68",
   "metadata": {
    "scrolled": true
   },
   "outputs": [],
   "source": [
    "#no_null['VA_Stars'] = stars[letters.index(no_null['Overall Value Added Grade'])]"
   ]
  },
  {
   "cell_type": "code",
   "execution_count": 87,
   "id": "ae752d62",
   "metadata": {},
   "outputs": [
    {
     "data": {
      "text/html": [
       "<div>\n",
       "<style scoped>\n",
       "    .dataframe tbody tr th:only-of-type {\n",
       "        vertical-align: middle;\n",
       "    }\n",
       "\n",
       "    .dataframe tbody tr th {\n",
       "        vertical-align: top;\n",
       "    }\n",
       "\n",
       "    .dataframe thead th {\n",
       "        text-align: right;\n",
       "    }\n",
       "</style>\n",
       "<table border=\"1\" class=\"dataframe\">\n",
       "  <thead>\n",
       "    <tr style=\"text-align: right;\">\n",
       "      <th></th>\n",
       "      <th>Overall Value Added Grade</th>\n",
       "      <th>stars</th>\n",
       "    </tr>\n",
       "  </thead>\n",
       "  <tbody>\n",
       "    <tr>\n",
       "      <th>0</th>\n",
       "      <td>A</td>\n",
       "      <td>5</td>\n",
       "    </tr>\n",
       "    <tr>\n",
       "      <th>1</th>\n",
       "      <td>B</td>\n",
       "      <td>4</td>\n",
       "    </tr>\n",
       "    <tr>\n",
       "      <th>2</th>\n",
       "      <td>C</td>\n",
       "      <td>3</td>\n",
       "    </tr>\n",
       "    <tr>\n",
       "      <th>3</th>\n",
       "      <td>D</td>\n",
       "      <td>2</td>\n",
       "    </tr>\n",
       "    <tr>\n",
       "      <th>4</th>\n",
       "      <td>F</td>\n",
       "      <td>1</td>\n",
       "    </tr>\n",
       "  </tbody>\n",
       "</table>\n",
       "</div>"
      ],
      "text/plain": [
       "  Overall Value Added Grade  stars\n",
       "0                         A      5\n",
       "1                         B      4\n",
       "2                         C      3\n",
       "3                         D      2\n",
       "4                         F      1"
      ]
     },
     "execution_count": 87,
     "metadata": {},
     "output_type": "execute_result"
    }
   ],
   "source": [
    "# df for stars for letter grades\n",
    "st = {'Overall Value Added Grade': ['A', 'B', 'C', 'D', 'F'], 'stars' : [5, 4, 3, 2, 1]}\n",
    "st_df = pd.DataFrame(data=st)\n",
    "st_df"
   ]
  },
  {
   "cell_type": "code",
   "execution_count": 88,
   "id": "c8b724ea",
   "metadata": {},
   "outputs": [],
   "source": [
    "#adding a numeric value for value added \n",
    "star_join = pd.merge(no_null, \n",
    "                     st_df, on ='Overall Value Added Grade', how ='left')"
   ]
  },
  {
   "cell_type": "code",
   "execution_count": 89,
   "id": "9167fb51",
   "metadata": {
    "scrolled": true
   },
   "outputs": [
    {
     "data": {
      "text/html": [
       "<div>\n",
       "<style scoped>\n",
       "    .dataframe tbody tr th:only-of-type {\n",
       "        vertical-align: middle;\n",
       "    }\n",
       "\n",
       "    .dataframe tbody tr th {\n",
       "        vertical-align: top;\n",
       "    }\n",
       "\n",
       "    .dataframe thead th {\n",
       "        text-align: right;\n",
       "    }\n",
       "</style>\n",
       "<table border=\"1\" class=\"dataframe\">\n",
       "  <thead>\n",
       "    <tr style=\"text-align: right;\">\n",
       "      <th></th>\n",
       "      <th>Building IRN</th>\n",
       "      <th>Building Name</th>\n",
       "      <th>Address</th>\n",
       "      <th>City, State, Zip</th>\n",
       "      <th>Enrollment</th>\n",
       "      <th>School Year</th>\n",
       "      <th>Year Rank</th>\n",
       "      <th>full_address</th>\n",
       "      <th>Performance Index Percent</th>\n",
       "      <th>Overall Value Added Grade</th>\n",
       "      <th>freq_count</th>\n",
       "      <th>stars</th>\n",
       "    </tr>\n",
       "  </thead>\n",
       "  <tbody>\n",
       "    <tr>\n",
       "      <th>0</th>\n",
       "      <td>224</td>\n",
       "      <td>Adlai Stevenson School</td>\n",
       "      <td>18300 Woda Avenue</td>\n",
       "      <td>Cleveland, OH, 44122-6441</td>\n",
       "      <td>430</td>\n",
       "      <td>2015-2016</td>\n",
       "      <td>1</td>\n",
       "      <td>18300 Woda Avenue, Cleveland, OH, 44122-6441</td>\n",
       "      <td>36.6</td>\n",
       "      <td>F</td>\n",
       "      <td>3</td>\n",
       "      <td>1</td>\n",
       "    </tr>\n",
       "    <tr>\n",
       "      <th>1</th>\n",
       "      <td>318</td>\n",
       "      <td>Menlo Park Academy</td>\n",
       "      <td>14440 Triskett Rd</td>\n",
       "      <td>Cleveland, OH, 44111-2263</td>\n",
       "      <td>367</td>\n",
       "      <td>2015-2016</td>\n",
       "      <td>1</td>\n",
       "      <td>14440 Triskett Rd, Cleveland, OH, 44111-2263</td>\n",
       "      <td>NaN</td>\n",
       "      <td>C</td>\n",
       "      <td>3</td>\n",
       "      <td>3</td>\n",
       "    </tr>\n",
       "    <tr>\n",
       "      <th>2</th>\n",
       "      <td>489</td>\n",
       "      <td>Almira</td>\n",
       "      <td>3375 W 99th St</td>\n",
       "      <td>Cleveland, OH, 44102-4642</td>\n",
       "      <td>499</td>\n",
       "      <td>2015-2016</td>\n",
       "      <td>1</td>\n",
       "      <td>3375 W 99th St, Cleveland, OH, 44102-4642</td>\n",
       "      <td>38.7</td>\n",
       "      <td>F</td>\n",
       "      <td>3</td>\n",
       "      <td>1</td>\n",
       "    </tr>\n",
       "    <tr>\n",
       "      <th>3</th>\n",
       "      <td>729</td>\n",
       "      <td>Andrew J Rickoff</td>\n",
       "      <td>3500 E 147th St</td>\n",
       "      <td>Cleveland, OH, 44120-4834</td>\n",
       "      <td>477</td>\n",
       "      <td>2015-2016</td>\n",
       "      <td>1</td>\n",
       "      <td>3500 E 147th St, Cleveland, OH, 44120-4834</td>\n",
       "      <td>36.9</td>\n",
       "      <td>F</td>\n",
       "      <td>3</td>\n",
       "      <td>1</td>\n",
       "    </tr>\n",
       "    <tr>\n",
       "      <th>4</th>\n",
       "      <td>828</td>\n",
       "      <td>Anton Grdina</td>\n",
       "      <td>2955 E 71st St</td>\n",
       "      <td>Cleveland, OH, 44104-4101</td>\n",
       "      <td>371</td>\n",
       "      <td>2015-2016</td>\n",
       "      <td>1</td>\n",
       "      <td>2955 E 71st St, Cleveland, OH, 44104-4101</td>\n",
       "      <td>32.4</td>\n",
       "      <td>F</td>\n",
       "      <td>3</td>\n",
       "      <td>1</td>\n",
       "    </tr>\n",
       "    <tr>\n",
       "      <th>...</th>\n",
       "      <td>...</td>\n",
       "      <td>...</td>\n",
       "      <td>...</td>\n",
       "      <td>...</td>\n",
       "      <td>...</td>\n",
       "      <td>...</td>\n",
       "      <td>...</td>\n",
       "      <td>...</td>\n",
       "      <td>...</td>\n",
       "      <td>...</td>\n",
       "      <td>...</td>\n",
       "      <td>...</td>\n",
       "    </tr>\n",
       "    <tr>\n",
       "      <th>340</th>\n",
       "      <td>86306</td>\n",
       "      <td>Martin Luther King Jr. Campus</td>\n",
       "      <td>1651 E 71st St</td>\n",
       "      <td>Cleveland, OH, 44103-4023</td>\n",
       "      <td>356</td>\n",
       "      <td>2017-2018</td>\n",
       "      <td>3</td>\n",
       "      <td>1651 E 71st St, Cleveland, OH, 44103-4023</td>\n",
       "      <td>38.2</td>\n",
       "      <td>F</td>\n",
       "      <td>3</td>\n",
       "      <td>1</td>\n",
       "    </tr>\n",
       "    <tr>\n",
       "      <th>341</th>\n",
       "      <td>133215</td>\n",
       "      <td>Intergenerational School, The</td>\n",
       "      <td>11327 Shaker Blvd Ste 200 E.</td>\n",
       "      <td>Cleveland, OH, 44104-3805</td>\n",
       "      <td>247</td>\n",
       "      <td>2017-2018</td>\n",
       "      <td>3</td>\n",
       "      <td>11327 Shaker Blvd Ste 200 E., Cleveland, OH, 4...</td>\n",
       "      <td>65.7</td>\n",
       "      <td>C</td>\n",
       "      <td>3</td>\n",
       "      <td>3</td>\n",
       "    </tr>\n",
       "    <tr>\n",
       "      <th>342</th>\n",
       "      <td>133520</td>\n",
       "      <td>Citizens Academy</td>\n",
       "      <td>10118 Hampden Ave</td>\n",
       "      <td>Cleveland, OH, 44108-3538</td>\n",
       "      <td>410</td>\n",
       "      <td>2017-2018</td>\n",
       "      <td>3</td>\n",
       "      <td>10118 Hampden Ave, Cleveland, OH, 44108-3538</td>\n",
       "      <td>64.5</td>\n",
       "      <td>F</td>\n",
       "      <td>2</td>\n",
       "      <td>1</td>\n",
       "    </tr>\n",
       "    <tr>\n",
       "      <th>343</th>\n",
       "      <td>133629</td>\n",
       "      <td>Horizon Science Acad Cleveland</td>\n",
       "      <td>6000 S Marginal Rd</td>\n",
       "      <td>Cleveland, OH, 44103-1042</td>\n",
       "      <td>440</td>\n",
       "      <td>2017-2018</td>\n",
       "      <td>3</td>\n",
       "      <td>6000 S Marginal Rd, Cleveland, OH, 44103-1042</td>\n",
       "      <td>50.1</td>\n",
       "      <td>D</td>\n",
       "      <td>1</td>\n",
       "      <td>2</td>\n",
       "    </tr>\n",
       "    <tr>\n",
       "      <th>344</th>\n",
       "      <td>147397</td>\n",
       "      <td>Cleveland School of Science &amp; Medicine</td>\n",
       "      <td>2075 Stokes Blvd</td>\n",
       "      <td>Cleveland, OH, 44106-3051</td>\n",
       "      <td>401</td>\n",
       "      <td>2017-2018</td>\n",
       "      <td>3</td>\n",
       "      <td>2075 Stokes Blvd, Cleveland, OH, 44106-3051</td>\n",
       "      <td>80.0</td>\n",
       "      <td>A</td>\n",
       "      <td>3</td>\n",
       "      <td>5</td>\n",
       "    </tr>\n",
       "  </tbody>\n",
       "</table>\n",
       "<p>345 rows × 12 columns</p>\n",
       "</div>"
      ],
      "text/plain": [
       "     Building IRN                           Building Name  \\\n",
       "0             224                  Adlai Stevenson School   \n",
       "1             318                      Menlo Park Academy   \n",
       "2             489                                  Almira   \n",
       "3             729                        Andrew J Rickoff   \n",
       "4             828                            Anton Grdina   \n",
       "..            ...                                     ...   \n",
       "340         86306           Martin Luther King Jr. Campus   \n",
       "341        133215           Intergenerational School, The   \n",
       "342        133520                        Citizens Academy   \n",
       "343        133629          Horizon Science Acad Cleveland   \n",
       "344        147397  Cleveland School of Science & Medicine   \n",
       "\n",
       "                          Address           City, State, Zip Enrollment  \\\n",
       "0               18300 Woda Avenue  Cleveland, OH, 44122-6441        430   \n",
       "1               14440 Triskett Rd  Cleveland, OH, 44111-2263        367   \n",
       "2                  3375 W 99th St  Cleveland, OH, 44102-4642        499   \n",
       "3                 3500 E 147th St  Cleveland, OH, 44120-4834        477   \n",
       "4                  2955 E 71st St  Cleveland, OH, 44104-4101        371   \n",
       "..                            ...                        ...        ...   \n",
       "340                1651 E 71st St  Cleveland, OH, 44103-4023        356   \n",
       "341  11327 Shaker Blvd Ste 200 E.  Cleveland, OH, 44104-3805        247   \n",
       "342             10118 Hampden Ave  Cleveland, OH, 44108-3538        410   \n",
       "343            6000 S Marginal Rd  Cleveland, OH, 44103-1042        440   \n",
       "344              2075 Stokes Blvd  Cleveland, OH, 44106-3051        401   \n",
       "\n",
       "    School Year  Year Rank                                       full_address  \\\n",
       "0     2015-2016          1       18300 Woda Avenue, Cleveland, OH, 44122-6441   \n",
       "1     2015-2016          1       14440 Triskett Rd, Cleveland, OH, 44111-2263   \n",
       "2     2015-2016          1          3375 W 99th St, Cleveland, OH, 44102-4642   \n",
       "3     2015-2016          1         3500 E 147th St, Cleveland, OH, 44120-4834   \n",
       "4     2015-2016          1          2955 E 71st St, Cleveland, OH, 44104-4101   \n",
       "..          ...        ...                                                ...   \n",
       "340   2017-2018          3          1651 E 71st St, Cleveland, OH, 44103-4023   \n",
       "341   2017-2018          3  11327 Shaker Blvd Ste 200 E., Cleveland, OH, 4...   \n",
       "342   2017-2018          3       10118 Hampden Ave, Cleveland, OH, 44108-3538   \n",
       "343   2017-2018          3      6000 S Marginal Rd, Cleveland, OH, 44103-1042   \n",
       "344   2017-2018          3        2075 Stokes Blvd, Cleveland, OH, 44106-3051   \n",
       "\n",
       "     Performance Index Percent Overall Value Added Grade  freq_count  stars  \n",
       "0                         36.6                         F           3      1  \n",
       "1                          NaN                         C           3      3  \n",
       "2                         38.7                         F           3      1  \n",
       "3                         36.9                         F           3      1  \n",
       "4                         32.4                         F           3      1  \n",
       "..                         ...                       ...         ...    ...  \n",
       "340                       38.2                         F           3      1  \n",
       "341                       65.7                         C           3      3  \n",
       "342                       64.5                         F           2      1  \n",
       "343                       50.1                         D           1      2  \n",
       "344                       80.0                         A           3      5  \n",
       "\n",
       "[345 rows x 12 columns]"
      ]
     },
     "execution_count": 89,
     "metadata": {},
     "output_type": "execute_result"
    }
   ],
   "source": [
    "star_join"
   ]
  },
  {
   "cell_type": "code",
   "execution_count": 90,
   "id": "0617ed4b",
   "metadata": {},
   "outputs": [],
   "source": [
    "# df that only includes schools with 3 years of data \n",
    "three_years = star_join[star_join['freq_count'] == 3]"
   ]
  },
  {
   "cell_type": "code",
   "execution_count": 91,
   "id": "8352e321",
   "metadata": {},
   "outputs": [],
   "source": [
    "grouped = three_years.sort_values(by=['Building IRN', 'Year Rank'])"
   ]
  },
  {
   "cell_type": "code",
   "execution_count": 92,
   "id": "f50dc420",
   "metadata": {},
   "outputs": [],
   "source": [
    "#convert df from long to wide to add culumns for metrics\n",
    "df_wide=pd.pivot(grouped, index=['Building IRN','Building Name', 'full_address'], columns = 'Year Rank',values = 'stars')"
   ]
  },
  {
   "cell_type": "code",
   "execution_count": 93,
   "id": "bf38bb12",
   "metadata": {},
   "outputs": [
    {
     "data": {
      "text/html": [
       "<div>\n",
       "<style scoped>\n",
       "    .dataframe tbody tr th:only-of-type {\n",
       "        vertical-align: middle;\n",
       "    }\n",
       "\n",
       "    .dataframe tbody tr th {\n",
       "        vertical-align: top;\n",
       "    }\n",
       "\n",
       "    .dataframe thead th {\n",
       "        text-align: right;\n",
       "    }\n",
       "</style>\n",
       "<table border=\"1\" class=\"dataframe\">\n",
       "  <thead>\n",
       "    <tr style=\"text-align: right;\">\n",
       "      <th></th>\n",
       "      <th></th>\n",
       "      <th>Year Rank</th>\n",
       "      <th>1</th>\n",
       "      <th>2</th>\n",
       "      <th>3</th>\n",
       "    </tr>\n",
       "    <tr>\n",
       "      <th>Building IRN</th>\n",
       "      <th>Building Name</th>\n",
       "      <th>full_address</th>\n",
       "      <th></th>\n",
       "      <th></th>\n",
       "      <th></th>\n",
       "    </tr>\n",
       "  </thead>\n",
       "  <tbody>\n",
       "    <tr>\n",
       "      <th>224</th>\n",
       "      <th>Adlai Stevenson School</th>\n",
       "      <th>18300 Woda Avenue, Cleveland, OH, 44122-6441</th>\n",
       "      <td>1.0</td>\n",
       "      <td>1.0</td>\n",
       "      <td>1.0</td>\n",
       "    </tr>\n",
       "    <tr>\n",
       "      <th rowspan=\"2\" valign=\"top\">318</th>\n",
       "      <th rowspan=\"2\" valign=\"top\">Menlo Park Academy</th>\n",
       "      <th>14440 Triskett Rd, Cleveland, OH, 44111-2263</th>\n",
       "      <td>3.0</td>\n",
       "      <td>1.0</td>\n",
       "      <td>NaN</td>\n",
       "    </tr>\n",
       "    <tr>\n",
       "      <th>2149 W 53rd St, Cleveland, OH, 44102-2263</th>\n",
       "      <td>NaN</td>\n",
       "      <td>NaN</td>\n",
       "      <td>1.0</td>\n",
       "    </tr>\n",
       "    <tr>\n",
       "      <th>489</th>\n",
       "      <th>Almira</th>\n",
       "      <th>3375 W 99th St, Cleveland, OH, 44102-4642</th>\n",
       "      <td>1.0</td>\n",
       "      <td>1.0</td>\n",
       "      <td>1.0</td>\n",
       "    </tr>\n",
       "    <tr>\n",
       "      <th>729</th>\n",
       "      <th>Andrew J Rickoff</th>\n",
       "      <th>3500 E 147th St, Cleveland, OH, 44120-4834</th>\n",
       "      <td>1.0</td>\n",
       "      <td>1.0</td>\n",
       "      <td>1.0</td>\n",
       "    </tr>\n",
       "    <tr>\n",
       "      <th>...</th>\n",
       "      <th>...</th>\n",
       "      <th>...</th>\n",
       "      <td>...</td>\n",
       "      <td>...</td>\n",
       "      <td>...</td>\n",
       "    </tr>\n",
       "    <tr>\n",
       "      <th>68221</th>\n",
       "      <th>Kenneth W Clement</th>\n",
       "      <th>14311 Woodworth Rd, Cleveland, OH, 44112-1926</th>\n",
       "      <td>1.0</td>\n",
       "      <td>1.0</td>\n",
       "      <td>1.0</td>\n",
       "    </tr>\n",
       "    <tr>\n",
       "      <th rowspan=\"2\" valign=\"top\">86306</th>\n",
       "      <th>Health Careers Center High School</th>\n",
       "      <th>1651 E 71st St, Cleveland, OH, 44103-4023</th>\n",
       "      <td>1.0</td>\n",
       "      <td>1.0</td>\n",
       "      <td>NaN</td>\n",
       "    </tr>\n",
       "    <tr>\n",
       "      <th>Martin Luther King Jr. Campus</th>\n",
       "      <th>1651 E 71st St, Cleveland, OH, 44103-4023</th>\n",
       "      <td>NaN</td>\n",
       "      <td>NaN</td>\n",
       "      <td>1.0</td>\n",
       "    </tr>\n",
       "    <tr>\n",
       "      <th>133215</th>\n",
       "      <th>Intergenerational School, The</th>\n",
       "      <th>11327 Shaker Blvd Ste 200 E., Cleveland, OH, 44104-3805</th>\n",
       "      <td>3.0</td>\n",
       "      <td>3.0</td>\n",
       "      <td>3.0</td>\n",
       "    </tr>\n",
       "    <tr>\n",
       "      <th>147397</th>\n",
       "      <th>Cleveland School of Science &amp; Medicine</th>\n",
       "      <th>2075 Stokes Blvd, Cleveland, OH, 44106-3051</th>\n",
       "      <td>5.0</td>\n",
       "      <td>5.0</td>\n",
       "      <td>5.0</td>\n",
       "    </tr>\n",
       "  </tbody>\n",
       "</table>\n",
       "<p>112 rows × 3 columns</p>\n",
       "</div>"
      ],
      "text/plain": [
       "Year Rank                                                                                                 1  \\\n",
       "Building IRN Building Name                          full_address                                              \n",
       "224          Adlai Stevenson School                 18300 Woda Avenue, Cleveland, OH, 44122-6441        1.0   \n",
       "318          Menlo Park Academy                     14440 Triskett Rd, Cleveland, OH, 44111-2263        3.0   \n",
       "                                                    2149 W 53rd St, Cleveland, OH, 44102-2263           NaN   \n",
       "489          Almira                                 3375 W 99th St, Cleveland, OH, 44102-4642           1.0   \n",
       "729          Andrew J Rickoff                       3500 E 147th St, Cleveland, OH, 44120-4834          1.0   \n",
       "...                                                                                                     ...   \n",
       "68221        Kenneth W Clement                      14311 Woodworth Rd, Cleveland, OH, 44112-1926       1.0   \n",
       "86306        Health Careers Center High School      1651 E 71st St, Cleveland, OH, 44103-4023           1.0   \n",
       "             Martin Luther King Jr. Campus          1651 E 71st St, Cleveland, OH, 44103-4023           NaN   \n",
       "133215       Intergenerational School, The          11327 Shaker Blvd Ste 200 E., Cleveland, OH, 44...  3.0   \n",
       "147397       Cleveland School of Science & Medicine 2075 Stokes Blvd, Cleveland, OH, 44106-3051         5.0   \n",
       "\n",
       "Year Rank                                                                                                 2  \\\n",
       "Building IRN Building Name                          full_address                                              \n",
       "224          Adlai Stevenson School                 18300 Woda Avenue, Cleveland, OH, 44122-6441        1.0   \n",
       "318          Menlo Park Academy                     14440 Triskett Rd, Cleveland, OH, 44111-2263        1.0   \n",
       "                                                    2149 W 53rd St, Cleveland, OH, 44102-2263           NaN   \n",
       "489          Almira                                 3375 W 99th St, Cleveland, OH, 44102-4642           1.0   \n",
       "729          Andrew J Rickoff                       3500 E 147th St, Cleveland, OH, 44120-4834          1.0   \n",
       "...                                                                                                     ...   \n",
       "68221        Kenneth W Clement                      14311 Woodworth Rd, Cleveland, OH, 44112-1926       1.0   \n",
       "86306        Health Careers Center High School      1651 E 71st St, Cleveland, OH, 44103-4023           1.0   \n",
       "             Martin Luther King Jr. Campus          1651 E 71st St, Cleveland, OH, 44103-4023           NaN   \n",
       "133215       Intergenerational School, The          11327 Shaker Blvd Ste 200 E., Cleveland, OH, 44...  3.0   \n",
       "147397       Cleveland School of Science & Medicine 2075 Stokes Blvd, Cleveland, OH, 44106-3051         5.0   \n",
       "\n",
       "Year Rank                                                                                                 3  \n",
       "Building IRN Building Name                          full_address                                             \n",
       "224          Adlai Stevenson School                 18300 Woda Avenue, Cleveland, OH, 44122-6441        1.0  \n",
       "318          Menlo Park Academy                     14440 Triskett Rd, Cleveland, OH, 44111-2263        NaN  \n",
       "                                                    2149 W 53rd St, Cleveland, OH, 44102-2263           1.0  \n",
       "489          Almira                                 3375 W 99th St, Cleveland, OH, 44102-4642           1.0  \n",
       "729          Andrew J Rickoff                       3500 E 147th St, Cleveland, OH, 44120-4834          1.0  \n",
       "...                                                                                                     ...  \n",
       "68221        Kenneth W Clement                      14311 Woodworth Rd, Cleveland, OH, 44112-1926       1.0  \n",
       "86306        Health Careers Center High School      1651 E 71st St, Cleveland, OH, 44103-4023           NaN  \n",
       "             Martin Luther King Jr. Campus          1651 E 71st St, Cleveland, OH, 44103-4023           1.0  \n",
       "133215       Intergenerational School, The          11327 Shaker Blvd Ste 200 E., Cleveland, OH, 44...  3.0  \n",
       "147397       Cleveland School of Science & Medicine 2075 Stokes Blvd, Cleveland, OH, 44106-3051         5.0  \n",
       "\n",
       "[112 rows x 3 columns]"
      ]
     },
     "execution_count": 93,
     "metadata": {},
     "output_type": "execute_result"
    }
   ],
   "source": [
    "df_wide"
   ]
  },
  {
   "cell_type": "code",
   "execution_count": 104,
   "id": "1d918b59",
   "metadata": {},
   "outputs": [],
   "source": [
    "# conditions and values for performance over time \n",
    "conditions1 = [\n",
    "    (df_wide[1] == df_wide[3]),\n",
    "    (df_wide[1] <= df_wide[2]) & (df_wide[2] <= df_wide[3]),\n",
    "    (df_wide[1] >= df_wide[2]) & (df_wide[2] >= df_wide[3]),\n",
    "    (df_wide[1] > df_wide[3]),\n",
    "    (df_wide[1] < df_wide[3])\n",
    "    ]\n",
    "values1 = ['No Change', 'Steadily Improve', 'Steadily Worse', 'Worse', 'Improve']\n",
    "#coundition for contextualizing performance over time \n",
    "conditions2 = [\n",
    "    (df_wide[3] >= 3),\n",
    "    (df_wide[3] < 3)\n",
    "    ]\n",
    "values2 = ['C or Above', 'Below C']\n",
    "#conditions for percentage \n",
    "conditions3 = [\n",
    "    (df_wide_per[1] == df_wide_per[2]),\n",
    "    (df_wide_per[1] <= df_wide_per[2]) & (df_wide_per[2] <= df_wide_per[3]),\n",
    "    (df_wide_per[1] >= df_wide_per[2]) & (df_wide_per[2] >= df_wide_per[3]),\n",
    "    (df_wide_per[1] > df_wide_per[3]),\n",
    "    (df_wide_per[1] < df_wide_per[3])\n",
    "    ]\n",
    "\n",
    "conditions4 = [\n",
    "    (df_wide_per[3] >= 70),\n",
    "    (df_wide_per[3] < 70)\n",
    "    ]"
   ]
  },
  {
   "cell_type": "code",
   "execution_count": 98,
   "id": "b5dc4423",
   "metadata": {
    "scrolled": true
   },
   "outputs": [],
   "source": [
    "df_wide = df_wide.dropna()"
   ]
  },
  {
   "cell_type": "code",
   "execution_count": 99,
   "id": "1e33e893",
   "metadata": {},
   "outputs": [],
   "source": [
    "df_wide['improvement'] = np.select(conditions1, values1)\n",
    "df_wide['2018 Grade'] = np.select(conditions2, values2)\n",
    "# df_wide.sort_values(by=['Building IRN']).head(50)"
   ]
  },
  {
   "cell_type": "code",
   "execution_count": 100,
   "id": "7ee672af",
   "metadata": {},
   "outputs": [
    {
     "data": {
      "text/html": [
       "<div>\n",
       "<style scoped>\n",
       "    .dataframe tbody tr th:only-of-type {\n",
       "        vertical-align: middle;\n",
       "    }\n",
       "\n",
       "    .dataframe tbody tr th {\n",
       "        vertical-align: top;\n",
       "    }\n",
       "\n",
       "    .dataframe thead th {\n",
       "        text-align: right;\n",
       "    }\n",
       "</style>\n",
       "<table border=\"1\" class=\"dataframe\">\n",
       "  <thead>\n",
       "    <tr style=\"text-align: right;\">\n",
       "      <th></th>\n",
       "      <th></th>\n",
       "      <th>Year Rank</th>\n",
       "      <th>1</th>\n",
       "      <th>2</th>\n",
       "      <th>3</th>\n",
       "      <th>improvement</th>\n",
       "      <th>2018 Grade</th>\n",
       "    </tr>\n",
       "    <tr>\n",
       "      <th>Building IRN</th>\n",
       "      <th>Building Name</th>\n",
       "      <th>full_address</th>\n",
       "      <th></th>\n",
       "      <th></th>\n",
       "      <th></th>\n",
       "      <th></th>\n",
       "      <th></th>\n",
       "    </tr>\n",
       "  </thead>\n",
       "  <tbody>\n",
       "  </tbody>\n",
       "</table>\n",
       "</div>"
      ],
      "text/plain": [
       "Empty DataFrame\n",
       "Columns: [1, 2, 3, improvement, 2018 Grade]\n",
       "Index: []"
      ]
     },
     "execution_count": 100,
     "metadata": {},
     "output_type": "execute_result"
    }
   ],
   "source": [
    "df_wide[df_wide['improvement']==0]"
   ]
  },
  {
   "cell_type": "markdown",
   "id": "74942101",
   "metadata": {},
   "source": [
    "### Percent data frame "
   ]
  },
  {
   "cell_type": "code",
   "execution_count": 101,
   "id": "0b8d52b9",
   "metadata": {},
   "outputs": [],
   "source": [
    "df_wide_per=pd.pivot(grouped, index=['Building IRN','Building Name', 'full_address'], columns = 'Year Rank',values = 'Performance Index Percent')"
   ]
  },
  {
   "cell_type": "code",
   "execution_count": 102,
   "id": "3befce86",
   "metadata": {},
   "outputs": [],
   "source": [
    "df_wide_per = df_wide_per.dropna()"
   ]
  },
  {
   "cell_type": "code",
   "execution_count": 105,
   "id": "1e23ab7c",
   "metadata": {},
   "outputs": [],
   "source": [
    "df_wide_per['improvement'] = np.select(conditions3, values1)\n",
    "df_wide_per['2018 Grade'] = np.select(conditions4, values2)"
   ]
  },
  {
   "cell_type": "code",
   "execution_count": 106,
   "id": "1213d665",
   "metadata": {},
   "outputs": [
    {
     "data": {
      "text/html": [
       "<div>\n",
       "<style scoped>\n",
       "    .dataframe tbody tr th:only-of-type {\n",
       "        vertical-align: middle;\n",
       "    }\n",
       "\n",
       "    .dataframe tbody tr th {\n",
       "        vertical-align: top;\n",
       "    }\n",
       "\n",
       "    .dataframe thead th {\n",
       "        text-align: right;\n",
       "    }\n",
       "</style>\n",
       "<table border=\"1\" class=\"dataframe\">\n",
       "  <thead>\n",
       "    <tr style=\"text-align: right;\">\n",
       "      <th></th>\n",
       "      <th></th>\n",
       "      <th>Year Rank</th>\n",
       "      <th>1</th>\n",
       "      <th>2</th>\n",
       "      <th>3</th>\n",
       "      <th>improvement</th>\n",
       "      <th>2018 Grade</th>\n",
       "    </tr>\n",
       "    <tr>\n",
       "      <th>Building IRN</th>\n",
       "      <th>Building Name</th>\n",
       "      <th>full_address</th>\n",
       "      <th></th>\n",
       "      <th></th>\n",
       "      <th></th>\n",
       "      <th></th>\n",
       "      <th></th>\n",
       "    </tr>\n",
       "  </thead>\n",
       "  <tbody>\n",
       "  </tbody>\n",
       "</table>\n",
       "</div>"
      ],
      "text/plain": [
       "Empty DataFrame\n",
       "Columns: [1, 2, 3, improvement, 2018 Grade]\n",
       "Index: []"
      ]
     },
     "execution_count": 106,
     "metadata": {},
     "output_type": "execute_result"
    }
   ],
   "source": [
    "df_wide_per[df_wide_per['improvement'] == '0']"
   ]
  },
  {
   "cell_type": "markdown",
   "id": "c5d53b49",
   "metadata": {},
   "source": [
    "## Visualization "
   ]
  },
  {
   "cell_type": "markdown",
   "id": "540b90df",
   "metadata": {},
   "source": [
    "### Value added"
   ]
  },
  {
   "cell_type": "code",
   "execution_count": 107,
   "id": "386dabb1",
   "metadata": {},
   "outputs": [
    {
     "data": {
      "image/png": "[encoded data removed]",
      "text/plain": [
       "<Figure size 1000x500 with 2 Axes>"
      ]
     },
     "metadata": {},
     "output_type": "display_data"
    }
   ],
   "source": [
    "df_wide1 = df_wide[df_wide['2018 Grade'] == 'C or Above']\n",
    "df_wide2 = df_wide[df_wide['2018 Grade'] == 'Below C']\n",
    "\n",
    "fig1 = plt.figure(figsize=(10,5))\n",
    "# ax = fig1.add_subplot(111)\n",
    "ax1 =fig1.add_subplot(121)\n",
    "cts = df_wide1.improvement.value_counts().to_frame()\n",
    "ax1.pie(cts.improvement, labels = df_wide1['improvement'].unique())\n",
    "ax1.set_title('2018 C or Above')\n",
    "ax1.set_label(df_wide1['improvement'])\n",
    "\n",
    "ax2 = fig1.add_subplot(122)\n",
    "cts = df_wide2.improvement.value_counts().to_frame()\n",
    "ax2.pie(cts.improvement, labels = df_wide2['improvement'].unique())\n",
    "ax2.set_title('2018 Below C')\n",
    "\n",
    "# plt.set_title('Value Added Grade 2015-2018')\n",
    "plt.show()"
   ]
  },
  {
   "cell_type": "code",
   "execution_count": 77,
   "id": "443e1024",
   "metadata": {},
   "outputs": [
    {
     "name": "stdout",
     "output_type": "stream",
     "text": [
      "33 c or Above\n",
      "70 Below C\n"
     ]
    }
   ],
   "source": [
    "print(str(len(df_wide1)) + ' c or Above')\n",
    "print(str(len(df_wide2)) + ' Below C')"
   ]
  },
  {
   "cell_type": "markdown",
   "id": "063d4421",
   "metadata": {},
   "source": [
    "### Performance Index"
   ]
  },
  {
   "cell_type": "code",
   "execution_count": 108,
   "id": "a4a2b9d0",
   "metadata": {},
   "outputs": [
    {
     "data": {
      "image/png": "[encoded data removed]",
      "text/plain": [
       "<Figure size 1000x500 with 2 Axes>"
      ]
     },
     "metadata": {},
     "output_type": "display_data"
    }
   ],
   "source": [
    "#performance\n",
    "df_wide_per1 = df_wide_per[df_wide_per['2018 Grade'] == 'C or Above']\n",
    "df_wide_per2 = df_wide_per[df_wide_per['2018 Grade'] == 'Below C']\n",
    "\n",
    "fig2 = plt.figure(figsize=(10,5))\n",
    "# ax = fig1.add_subplot(111)\n",
    "ax1 =fig2.add_subplot(121)\n",
    "cts = df_wide_per1.improvement.value_counts().to_frame()\n",
    "ax1.pie(cts.improvement, labels = df_wide_per1['improvement'].unique())\n",
    "ax1.set_title('2018 70% or Above')\n",
    "ax1.set_label(df_wide_per1['improvement'])\n",
    "\n",
    "ax2 = fig2.add_subplot(122)\n",
    "cts = df_wide_per2.improvement.value_counts().to_frame()\n",
    "ax2.pie(cts.improvement, labels = df_wide_per2['improvement'].unique())\n",
    "ax2.set_title('2018 Below 70%')\n",
    "\n",
    "# plt.set_title('Value Added Grade 2015-2018')\n",
    "plt.show()\n"
   ]
  },
  {
   "cell_type": "code",
   "execution_count": 80,
   "id": "271d7f67",
   "metadata": {},
   "outputs": [
    {
     "name": "stdout",
     "output_type": "stream",
     "text": [
      "8 70% or Above\n",
      "83 Below 70%\n"
     ]
    }
   ],
   "source": [
    "print(str(len(df_wide_per1)) + ' 70% or Above')\n",
    "print(str(len(df_wide_per2)) + ' Below 70%')"
   ]
  },
  {
   "cell_type": "markdown",
   "id": "7bcf1c7e",
   "metadata": {},
   "source": [
    "### export dfs for map"
   ]
  },
  {
   "cell_type": "code",
   "execution_count": 112,
   "id": "0eb9a6e4",
   "metadata": {},
   "outputs": [],
   "source": [
    "VA_map_df = df_wide2\n",
    "Perf_map_df = df_wide_per2"
   ]
  },
  {
   "cell_type": "code",
   "execution_count": 119,
   "id": "672f0c4a",
   "metadata": {},
   "outputs": [],
   "source": [
    "writer = pd.ExcelWriter(\"visuals_dataset.xlsx\", engine=\"xlsxwriter\")\n",
    "df_wide1.to_excel(writer, sheet_name=\"VA_C_above\")\n",
    "VA_map_df.to_excel(writer, sheet_name=\"VA_under_C\")\n",
    "df_wide_per1.to_excel(writer, sheet_name=\"Perf_C_above\")\n",
    "Perf_map_df.to_excel(writer, sheet_name=\"Perf_under_c\")\n",
    "writer.close()"
   ]
  },
  {
   "cell_type": "code",
   "execution_count": null,
   "id": "cf8219f8",
   "metadata": {},
   "outputs": [],
   "source": []
  }
 ],
 "metadata": {
  "kernelspec": {
   "display_name": "Python 3 (ipykernel)",
   "language": "python",
   "name": "python3"
  },
  "language_info": {
   "codemirror_mode": {
    "name": "ipython",
    "version": 3
   },
   "file_extension": ".py",
   "mimetype": "text/x-python",
   "name": "python",
   "nbconvert_exporter": "python",
   "pygments_lexer": "ipython3",
   "version": "3.9.13"
  }
 },
 "nbformat": 4,
 "nbformat_minor": 5
}
